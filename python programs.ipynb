{
  "nbformat": 4,
  "nbformat_minor": 0,
  "metadata": {
    "colab": {
      "name": "Untitled2.ipynb",
      "provenance": [],
      "authorship_tag": "ABX9TyNENgVKABtakD7g329Y153c",
      "include_colab_link": true
    },
    "kernelspec": {
      "name": "python3",
      "display_name": "Python 3"
    },
    "language_info": {
      "name": "python"
    }
  },
  "cells": [
    {
      "cell_type": "markdown",
      "metadata": {
        "id": "view-in-github",
        "colab_type": "text"
      },
      "source": [
        "<a href=\"https://colab.research.google.com/github/yJoelhenry7/Basic-ML/blob/main/python%20programs.ipynb\" target=\"_parent\"><img src=\"https://colab.research.google.com/assets/colab-badge.svg\" alt=\"Open In Colab\"/></a>"
      ]
    },
    {
      "cell_type": "markdown",
      "metadata": {
        "id": "Cb-Kcb2Q1NUv"
      },
      "source": [
        "Python program to check if given number is prime or not\n",
        "\n"
      ]
    },
    {
      "cell_type": "code",
      "metadata": {
        "colab": {
          "base_uri": "https://localhost:8080/"
        },
        "id": "P2Cy49tJ1MwP",
        "outputId": "fb53ad50-319e-4cb3-f558-5496f20d3155"
      },
      "source": [
        "\n",
        "\n",
        "num = int(input())\n",
        "if num > 1:\n",
        " \n",
        "    # Iterate from 2 to n / 2\n",
        "    for i in range(2, int(num/2)+1):\n",
        " \n",
        "        # If num is divisible by any number between\n",
        "        # 2 and n / 2, it is not prime\n",
        "        if (num % i) == 0:\n",
        "            print(num, \"is not a prime number\")\n",
        "            break\n",
        "    else:\n",
        "        print(num, \"is a prime number\")\n",
        " \n",
        "else:\n",
        "    print(num, \"is not a prime number\")"
      ],
      "execution_count": 1,
      "outputs": [
        {
          "output_type": "stream",
          "text": [
            "6\n",
            "6 is not a prime number\n"
          ],
          "name": "stdout"
        }
      ]
    },
    {
      "cell_type": "markdown",
      "metadata": {
        "id": "0JYrx4kE1inB"
      },
      "source": [
        "Python program to find Area of a circle"
      ]
    },
    {
      "cell_type": "code",
      "metadata": {
        "colab": {
          "base_uri": "https://localhost:8080/"
        },
        "id": "FfdWYATF1ne_",
        "outputId": "5566d7f0-fa52-4f9f-a980-0d31e46b14ce"
      },
      "source": [
        "def findArea(r):\n",
        "    PI = 3.14\n",
        "    return PI * (r*r);\n",
        "print(\"Area of circle = %.6f\" % findArea(6));"
      ],
      "execution_count": 2,
      "outputs": [
        {
          "output_type": "stream",
          "text": [
            "Area of circle = 113.040000\n"
          ],
          "name": "stdout"
        }
      ]
    },
    {
      "cell_type": "markdown",
      "metadata": {
        "id": "ljz2Fwcl1tjv"
      },
      "source": [
        "\n",
        "python program to find reverse of a number"
      ]
    },
    {
      "cell_type": "code",
      "metadata": {
        "colab": {
          "base_uri": "https://localhost:8080/"
        },
        "id": "Y44jH93H1ztn",
        "outputId": "bd00b39b-f76f-4e35-9500-af17bdb3cfc9"
      },
      "source": [
        "a=int(input())\n",
        "reverse=0\n",
        "while(a>0):\n",
        "  remainder=a%10\n",
        "  reverse=reverse*10+remainder\n",
        "  a=a//10\n",
        "print(reverse)"
      ],
      "execution_count": 3,
      "outputs": [
        {
          "output_type": "stream",
          "text": [
            "1234\n",
            "4321\n"
          ],
          "name": "stdout"
        }
      ]
    }
  ]
}